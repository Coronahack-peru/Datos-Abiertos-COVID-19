{
 "cells": [
  {
   "cell_type": "markdown",
   "metadata": {},
   "source": [
    "# Hackaton : gobierno de datos abiertos - corona"
   ]
  },
  {
   "cell_type": "markdown",
   "metadata": {},
   "source": [
    "## colaborador J Caparo"
   ]
  },
  {
   "cell_type": "code",
   "execution_count": null,
   "metadata": {},
   "outputs": [],
   "source": [
    "### Convierte el encoding de archivos *.csv a \"utf-8\" automaticamnete."
   ]
  },
  {
   "cell_type": "code",
   "execution_count": 1,
   "metadata": {},
   "outputs": [],
   "source": [
    "import os    \n",
    "import chardet\n",
    "import pandas as pd\n",
    "import numpy as np"
   ]
  },
  {
   "cell_type": "markdown",
   "metadata": {},
   "source": [
    "read the csv files"
   ]
  },
  {
   "cell_type": "code",
   "execution_count": 2,
   "metadata": {},
   "outputs": [],
   "source": [
    "filename = 'DATOSABIERTOS_SISCOVID.csv'"
   ]
  },
  {
   "cell_type": "code",
   "execution_count": 3,
   "metadata": {},
   "outputs": [
    {
     "name": "stdout",
     "output_type": "stream",
     "text": [
      "utf-8\n"
     ]
    }
   ],
   "source": [
    "# get file encoding type\n",
    "def get_encoding_type(file):\n",
    "    with open(file, 'rb') as f:\n",
    "        rawdata = f.read()\n",
    "    return chardet.detect(rawdata)['encoding']\n",
    "\n",
    "srcfile=filename\n",
    "prefix='fixed'\n",
    "trgfile=prefix +srcfile\n",
    "from_codec = get_encoding_type(srcfile)\n",
    "print(from_codec)\n"
   ]
  },
  {
   "cell_type": "code",
   "execution_count": 4,
   "metadata": {},
   "outputs": [
    {
     "name": "stdout",
     "output_type": "stream",
     "text": [
      "encoding is already utf-8\n"
     ]
    }
   ],
   "source": [
    "if from_codec != 'utf-8':\n",
    "    try: \n",
    "        with open(srcfile, 'r', encoding=from_codec) as f, open(trgfile, 'w', encoding='utf-8') as e:\n",
    "            text = f.read() # for small files, for big use chunks\n",
    "            e.write(text)\n",
    "\n",
    "        os.remove(srcfile) # remove old encoding file\n",
    "        os.rename(trgfile, srcfile) # rename new encoding\n",
    "    except UnicodeDecodeError:\n",
    "        print('Decode Error')\n",
    "    except UnicodeEncodeError:\n",
    "        print('Encode Error')\n",
    "else:\n",
    "    print('encoding is already utf-8')"
   ]
  },
  {
   "cell_type": "code",
   "execution_count": 5,
   "metadata": {},
   "outputs": [],
   "source": [
    "filename=srcfile\n",
    "df = pd.read_csv(filename, delimiter=',')"
   ]
  },
  {
   "cell_type": "code",
   "execution_count": 6,
   "metadata": {},
   "outputs": [
    {
     "name": "stdout",
     "output_type": "stream",
     "text": [
      "                               UUID FECHA_NACIMIENTO       SEXO DEPARTAMENTO  \\\n",
      "0  efbb9abe744514f0080d1a216e0d6c7d       1957-03-10   FEMENINO      UCAYALI   \n",
      "1  0368274a092b92a9f715d96064b71f15       1947-08-05   FEMENINO      UCAYALI   \n",
      "2  2365e9b1bfef2445eb84e815b651c02e       1953-03-19  MASCULINO      UCAYALI   \n",
      "3  54840e028c60d5b6679e5c29316c5c43       1957-08-18  MASCULINO      UCAYALI   \n",
      "4  6ef1199aca61f7fd151b6e65d9b422d7       1949-09-08  MASCULINO      UCAYALI   \n",
      "\n",
      "           PROVINCIA  DISTRITO FECHA_PRUEBA TIPO_PRUEBA  \n",
      "0  CORONEL PORTILLO   CALLERIA   2020-04-28          PR  \n",
      "1  CORONEL PORTILLO   CALLERIA   2020-05-08          PR  \n",
      "2  CORONEL PORTILLO   MANANTAY   2020-05-06          PR  \n",
      "3  CORONEL PORTILLO   CALLERIA   2020-05-20          PR  \n",
      "4  CORONEL PORTILLO   MANANTAY   2020-05-01          PR  \n"
     ]
    }
   ],
   "source": [
    "print(df.head())"
   ]
  },
  {
   "cell_type": "code",
   "execution_count": 7,
   "metadata": {},
   "outputs": [
    {
     "data": {
      "text/plain": [
       "UUID                object\n",
       "FECHA_NACIMIENTO    object\n",
       "SEXO                object\n",
       "DEPARTAMENTO        object\n",
       "PROVINCIA           object\n",
       "DISTRITO            object\n",
       "FECHA_PRUEBA        object\n",
       "TIPO_PRUEBA         object\n",
       "dtype: object"
      ]
     },
     "execution_count": 7,
     "metadata": {},
     "output_type": "execute_result"
    }
   ],
   "source": [
    "df.dtypes"
   ]
  },
  {
   "cell_type": "code",
   "execution_count": 8,
   "metadata": {},
   "outputs": [],
   "source": [
    "from os import listdir\n",
    "\n",
    "def find_csv_filenames( path_to_dir, suffix=\".csv\" ):\n",
    "    filenames = listdir(path_to_dir)\n",
    "    return [ filename for filename in filenames if filename.endswith( suffix ) ]"
   ]
  },
  {
   "cell_type": "code",
   "execution_count": 10,
   "metadata": {},
   "outputs": [
    {
     "name": "stdout",
     "output_type": "stream",
     "text": [
      "bonos_covid19.csv\n",
      "casos_positivos_covid19.csv\n",
      "DATOSABIERTOS_SISCOVID.csv\n",
      "donaciones_covid19.csv\n",
      "ejecucion_presupuestal_covid19.csv\n",
      "fallecidos_minsa_covid19.csv\n",
      "fallecidos_sinadef_covid19.csv\n"
     ]
    }
   ],
   "source": [
    "filenames = find_csv_filenames(\"./\")\n",
    "for name in filenames:\n",
    "  print (name)"
   ]
  },
  {
   "cell_type": "code",
   "execution_count": null,
   "metadata": {},
   "outputs": [],
   "source": []
  }
 ],
 "metadata": {
  "kernelspec": {
   "display_name": "Python 3",
   "language": "python",
   "name": "python3"
  },
  "language_info": {
   "codemirror_mode": {
    "name": "ipython",
    "version": 3
   },
   "file_extension": ".py",
   "mimetype": "text/x-python",
   "name": "python",
   "nbconvert_exporter": "python",
   "pygments_lexer": "ipython3",
   "version": "3.7.7"
  }
 },
 "nbformat": 4,
 "nbformat_minor": 4
}
