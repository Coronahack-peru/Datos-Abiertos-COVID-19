{
 "cells": [
  {
   "cell_type": "markdown",
   "metadata": {},
   "source": [
    "# Hackaton : gobierno de datos abiertos - corona"
   ]
  },
  {
   "cell_type": "markdown",
   "metadata": {},
   "source": [
    "## colaborador: J Caparo"
   ]
  },
  {
   "cell_type": "markdown",
   "metadata": {},
   "source": [
    "## Convierte el encoding de archivos *.csv a \"utf-8\" automaticamente."
   ]
  },
  {
   "cell_type": "code",
   "execution_count": 1,
   "metadata": {},
   "outputs": [],
   "source": [
    "import os    \n",
    "import chardet\n",
    "import pandas as pd\n",
    "import numpy as np"
   ]
  },
  {
   "cell_type": "markdown",
   "metadata": {},
   "source": [
    "read the csv files"
   ]
  },
  {
   "cell_type": "code",
   "execution_count": 2,
   "metadata": {},
   "outputs": [],
   "source": [
    "# get file encoding type\n",
    "def get_encoding_type(file):\n",
    "    with open(file, 'rb') as f:\n",
    "        rawdata = f.read()\n",
    "    return chardet.detect(rawdata)['encoding']"
   ]
  },
  {
   "cell_type": "code",
   "execution_count": 3,
   "metadata": {},
   "outputs": [],
   "source": [
    "# change file encoding function\n",
    "def change_file_encoding(filename):\n",
    "    srcfile=filename\n",
    "    prefix='fixed'\n",
    "    trgfile=prefix +srcfile\n",
    "    from_codec = get_encoding_type(srcfile)\n",
    "    print(\"Archivo :\",filename, \"Encoding:\", from_codec)\n",
    "    if from_codec != 'utf-8':\n",
    "        try: \n",
    "            print(\"Convirtiendo a utf-8\")\n",
    "            with open(srcfile, 'r', encoding=from_codec) as f, open(trgfile, 'w', encoding='utf-8') as e:\n",
    "                text = f.read() # for small files, for big use chunks\n",
    "                e.write(text)\n",
    "\n",
    "            os.remove(srcfile) # remove old encoding file\n",
    "            os.rename(trgfile, srcfile) # rename new encoding\n",
    "        except UnicodeDecodeError:\n",
    "            print('Decode Error')\n",
    "        except UnicodeEncodeError:\n",
    "            print('Encode Error')\n",
    "    else:\n",
    "        print('encoding is already utf-8. No cambio')\n",
    "    return"
   ]
  },
  {
   "cell_type": "code",
   "execution_count": 4,
   "metadata": {},
   "outputs": [],
   "source": [
    "from os import listdir\n",
    "\n",
    "def find_csv_filenames( path_to_dir, suffix=\".csv\" ):\n",
    "    filenames = listdir(path_to_dir)\n",
    "    return [ filename for filename in filenames if filename.endswith( suffix ) ]"
   ]
  },
  {
   "cell_type": "code",
   "execution_count": 5,
   "metadata": {},
   "outputs": [
    {
     "name": "stdout",
     "output_type": "stream",
     "text": [
      "Trabajando con archivo: bonos_covid19.csv\n",
      "Archivo : bonos_covid19.csv Encoding: SHIFT_JIS\n",
      "Convirtiendo a utf-8\n",
      "Trabajando con archivo: casos_positivos_covid19.csv\n",
      "Archivo : casos_positivos_covid19.csv Encoding: utf-8\n",
      "encoding is already utf-8\n",
      "Trabajando con archivo: DATOSABIERTOS_SISCOVID.csv\n",
      "Archivo : DATOSABIERTOS_SISCOVID.csv Encoding: ISO-8859-1\n",
      "Convirtiendo a utf-8\n",
      "Trabajando con archivo: donaciones_covid19.csv\n",
      "Archivo : donaciones_covid19.csv Encoding: utf-8\n",
      "encoding is already utf-8\n",
      "Trabajando con archivo: ejecucion_presupuestal_covid19.csv\n",
      "Archivo : ejecucion_presupuestal_covid19.csv Encoding: ascii\n",
      "Convirtiendo a utf-8\n",
      "Trabajando con archivo: equiposdeprotecion_covid19.csv\n",
      "Archivo : equiposdeprotecion_covid19.csv Encoding: utf-8\n",
      "encoding is already utf-8\n",
      "Trabajando con archivo: fallecidos_minsa_covid19.csv\n",
      "Archivo : fallecidos_minsa_covid19.csv Encoding: utf-8\n",
      "encoding is already utf-8\n",
      "Trabajando con archivo: fallecidos_sinadef_covid19.csv\n",
      "Archivo : fallecidos_sinadef_covid19.csv Encoding: utf-8\n",
      "encoding is already utf-8\n"
     ]
    }
   ],
   "source": [
    "filenames = find_csv_filenames(\"./\")\n",
    "for name in filenames:\n",
    "  print (\"Trabajando con archivo:\",name)\n",
    "  change_file_encoding(name)\n",
    "print(\"Terminado\")"
   ]
  }
 ],
 "metadata": {
  "kernelspec": {
   "display_name": "Python 3",
   "language": "python",
   "name": "python3"
  },
  "language_info": {
   "codemirror_mode": {
    "name": "ipython",
    "version": 3
   },
   "file_extension": ".py",
   "mimetype": "text/x-python",
   "name": "python",
   "nbconvert_exporter": "python",
   "pygments_lexer": "ipython3",
   "version": "3.7.7"
  }
 },
 "nbformat": 4,
 "nbformat_minor": 4
}
