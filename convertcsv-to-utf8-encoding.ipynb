{
 "cells": [
  {
   "cell_type": "markdown",
   "metadata": {},
   "source": [
    "# Hackaton : gobierno de datos abiertos - corona"
   ]
  },
  {
   "cell_type": "markdown",
   "metadata": {},
   "source": [
    "## colaborador: J Caparo"
   ]
  },
  {
   "cell_type": "markdown",
   "metadata": {},
   "source": [
    "## Convierte el encoding de archivos *.csv a \"utf-8\" automaticamente."
   ]
  },
  {
   "cell_type": "code",
   "execution_count": 1,
   "metadata": {},
   "outputs": [],
   "source": [
    "import os    \n",
    "import chardet\n",
    "import shutil\n",
    "import pandas as pd\n",
    "import numpy as np"
   ]
  },
  {
   "cell_type": "markdown",
   "metadata": {},
   "source": [
    "read the csv files"
   ]
  },
  {
   "cell_type": "code",
   "execution_count": 2,
   "metadata": {},
   "outputs": [],
   "source": [
    "# get file encoding type\n",
    "def get_encoding_type(file):\n",
    "    with open(file, 'rb') as f:\n",
    "        rawdata = f.read()\n",
    "    return chardet.detect(rawdata)['encoding']"
   ]
  },
  {
   "cell_type": "code",
   "execution_count": 3,
   "metadata": {},
   "outputs": [],
   "source": [
    "# change file encoding function\n",
    "def change_file_encoding(filename,encoded_dir):\n",
    "    srcfile=filename\n",
    "    prefix='fixed'\n",
    "    trgfile=prefix + srcfile\n",
    "    new_dir= encoded_dir\n",
    "    from_codec = get_encoding_type(srcfile)\n",
    "    print(\"Archivo :\",filename, \"Encoding:\", from_codec)\n",
    "    if from_codec != 'utf-8':\n",
    "        try: \n",
    "            print(\"Convirtiendo a utf-8 y copiando al directorio data_limpia\")\n",
    "            with open(srcfile, 'r', encoding=from_codec) as f, open(trgfile, 'w', encoding='utf-8') as e:\n",
    "                text = f.read() # for small files, for big use chunks\n",
    "                e.write(text)\n",
    "                \n",
    "            shutil.copy2(trgfile, encoded_dir)\n",
    "            os.chdir(new_dir)\n",
    "            os.rename(trgfile, srcfile)\n",
    "#            os.remove(srcfile) # remove old encoding file\n",
    "#            os.rename(trgfile, srcfile) # rename new encoding\n",
    "        except UnicodeDecodeError:\n",
    "            print('Decode Error')\n",
    "        except UnicodeEncodeError:\n",
    "            print('Encode Error')\n",
    "    else:\n",
    "        print('encoding is already utf-8. No cambio. Se  copio al directorio data_limpia')\n",
    "        shutil.copy2(srcfile, encoded_dir)\n",
    "    \n",
    "    return"
   ]
  },
  {
   "cell_type": "code",
   "execution_count": 4,
   "metadata": {},
   "outputs": [],
   "source": [
    "from os import listdir\n",
    "\n",
    "def find_csv_filenames( path_to_dir, suffix=\".csv\" ):\n",
    "    filenames = listdir(path_to_dir)\n",
    "    return [ filename for filename in filenames if filename.endswith( suffix ) ]"
   ]
  },
  {
   "cell_type": "code",
   "execution_count": 5,
   "metadata": {
    "scrolled": true
   },
   "outputs": [
    {
     "name": "stdout",
     "output_type": "stream",
     "text": [
      "Trabajando con archivo: bonos_covid19.csv\n",
      "Archivo : bonos_covid19.csv Encoding: utf-8\n",
      "encoding is already utf-8. No cambio. Se  copio al directorio data_limpia\n",
      "Trabajando con archivo: casos_positivos_covid19.csv\n",
      "Archivo : casos_positivos_covid19.csv Encoding: utf-8\n",
      "encoding is already utf-8. No cambio. Se  copio al directorio data_limpia\n",
      "Trabajando con archivo: DATOSABIERTOS_SISCOVID.csv\n",
      "Archivo : DATOSABIERTOS_SISCOVID.csv Encoding: utf-8\n",
      "encoding is already utf-8. No cambio. Se  copio al directorio data_limpia\n",
      "Trabajando con archivo: donaciones_covid19.csv\n",
      "Archivo : donaciones_covid19.csv Encoding: utf-8\n",
      "encoding is already utf-8. No cambio. Se  copio al directorio data_limpia\n",
      "Trabajando con archivo: ejecucion_presupuestal_covid19.csv\n",
      "Archivo : ejecucion_presupuestal_covid19.csv Encoding: ascii\n",
      "Convirtiendo a utf-8 y copiando al directorio data_limpia\n",
      "Trabajando con archivo: equiposdeprotecion_covid19.csv\n"
     ]
    },
    {
     "ename": "FileNotFoundError",
     "evalue": "[Errno 2] No such file or directory: 'equiposdeprotecion_covid19.csv'",
     "output_type": "error",
     "traceback": [
      "\u001b[1;31m---------------------------------------------------------------------------\u001b[0m",
      "\u001b[1;31mFileNotFoundError\u001b[0m                         Traceback (most recent call last)",
      "\u001b[1;32m<ipython-input-5-e0279ad466a5>\u001b[0m in \u001b[0;36m<module>\u001b[1;34m\u001b[0m\n\u001b[0;32m      4\u001b[0m \u001b[1;32mfor\u001b[0m \u001b[0mname\u001b[0m \u001b[1;32min\u001b[0m \u001b[0mfilenames\u001b[0m\u001b[1;33m:\u001b[0m\u001b[1;33m\u001b[0m\u001b[1;33m\u001b[0m\u001b[0m\n\u001b[0;32m      5\u001b[0m   \u001b[0mprint\u001b[0m \u001b[1;33m(\u001b[0m\u001b[1;34m\"Trabajando con archivo:\"\u001b[0m\u001b[1;33m,\u001b[0m\u001b[0mname\u001b[0m\u001b[1;33m)\u001b[0m\u001b[1;33m\u001b[0m\u001b[1;33m\u001b[0m\u001b[0m\n\u001b[1;32m----> 6\u001b[1;33m   \u001b[0mchange_file_encoding\u001b[0m\u001b[1;33m(\u001b[0m\u001b[0mname\u001b[0m\u001b[1;33m,\u001b[0m\u001b[0mencoded_dir\u001b[0m\u001b[1;33m)\u001b[0m\u001b[1;33m\u001b[0m\u001b[1;33m\u001b[0m\u001b[0m\n\u001b[0m\u001b[0;32m      7\u001b[0m \u001b[0mprint\u001b[0m\u001b[1;33m(\u001b[0m\u001b[1;34m\"Terminado\"\u001b[0m\u001b[1;33m)\u001b[0m\u001b[1;33m\u001b[0m\u001b[1;33m\u001b[0m\u001b[0m\n",
      "\u001b[1;32m<ipython-input-3-9e25462ef1f2>\u001b[0m in \u001b[0;36mchange_file_encoding\u001b[1;34m(filename, encoded_dir)\u001b[0m\n\u001b[0;32m      5\u001b[0m     \u001b[0mtrgfile\u001b[0m\u001b[1;33m=\u001b[0m\u001b[0mprefix\u001b[0m \u001b[1;33m+\u001b[0m \u001b[0msrcfile\u001b[0m\u001b[1;33m\u001b[0m\u001b[1;33m\u001b[0m\u001b[0m\n\u001b[0;32m      6\u001b[0m     \u001b[0mnew_dir\u001b[0m\u001b[1;33m=\u001b[0m \u001b[0mencoded_dir\u001b[0m\u001b[1;33m\u001b[0m\u001b[1;33m\u001b[0m\u001b[0m\n\u001b[1;32m----> 7\u001b[1;33m     \u001b[0mfrom_codec\u001b[0m \u001b[1;33m=\u001b[0m \u001b[0mget_encoding_type\u001b[0m\u001b[1;33m(\u001b[0m\u001b[0msrcfile\u001b[0m\u001b[1;33m)\u001b[0m\u001b[1;33m\u001b[0m\u001b[1;33m\u001b[0m\u001b[0m\n\u001b[0m\u001b[0;32m      8\u001b[0m     \u001b[0mprint\u001b[0m\u001b[1;33m(\u001b[0m\u001b[1;34m\"Archivo :\"\u001b[0m\u001b[1;33m,\u001b[0m\u001b[0mfilename\u001b[0m\u001b[1;33m,\u001b[0m \u001b[1;34m\"Encoding:\"\u001b[0m\u001b[1;33m,\u001b[0m \u001b[0mfrom_codec\u001b[0m\u001b[1;33m)\u001b[0m\u001b[1;33m\u001b[0m\u001b[1;33m\u001b[0m\u001b[0m\n\u001b[0;32m      9\u001b[0m     \u001b[1;32mif\u001b[0m \u001b[0mfrom_codec\u001b[0m \u001b[1;33m!=\u001b[0m \u001b[1;34m'utf-8'\u001b[0m\u001b[1;33m:\u001b[0m\u001b[1;33m\u001b[0m\u001b[1;33m\u001b[0m\u001b[0m\n",
      "\u001b[1;32m<ipython-input-2-3701df10321f>\u001b[0m in \u001b[0;36mget_encoding_type\u001b[1;34m(file)\u001b[0m\n\u001b[0;32m      1\u001b[0m \u001b[1;31m# get file encoding type\u001b[0m\u001b[1;33m\u001b[0m\u001b[1;33m\u001b[0m\u001b[1;33m\u001b[0m\u001b[0m\n\u001b[0;32m      2\u001b[0m \u001b[1;32mdef\u001b[0m \u001b[0mget_encoding_type\u001b[0m\u001b[1;33m(\u001b[0m\u001b[0mfile\u001b[0m\u001b[1;33m)\u001b[0m\u001b[1;33m:\u001b[0m\u001b[1;33m\u001b[0m\u001b[1;33m\u001b[0m\u001b[0m\n\u001b[1;32m----> 3\u001b[1;33m     \u001b[1;32mwith\u001b[0m \u001b[0mopen\u001b[0m\u001b[1;33m(\u001b[0m\u001b[0mfile\u001b[0m\u001b[1;33m,\u001b[0m \u001b[1;34m'rb'\u001b[0m\u001b[1;33m)\u001b[0m \u001b[1;32mas\u001b[0m \u001b[0mf\u001b[0m\u001b[1;33m:\u001b[0m\u001b[1;33m\u001b[0m\u001b[1;33m\u001b[0m\u001b[0m\n\u001b[0m\u001b[0;32m      4\u001b[0m         \u001b[0mrawdata\u001b[0m \u001b[1;33m=\u001b[0m \u001b[0mf\u001b[0m\u001b[1;33m.\u001b[0m\u001b[0mread\u001b[0m\u001b[1;33m(\u001b[0m\u001b[1;33m)\u001b[0m\u001b[1;33m\u001b[0m\u001b[1;33m\u001b[0m\u001b[0m\n\u001b[0;32m      5\u001b[0m     \u001b[1;32mreturn\u001b[0m \u001b[0mchardet\u001b[0m\u001b[1;33m.\u001b[0m\u001b[0mdetect\u001b[0m\u001b[1;33m(\u001b[0m\u001b[0mrawdata\u001b[0m\u001b[1;33m)\u001b[0m\u001b[1;33m[\u001b[0m\u001b[1;34m'encoding'\u001b[0m\u001b[1;33m]\u001b[0m\u001b[1;33m\u001b[0m\u001b[1;33m\u001b[0m\u001b[0m\n",
      "\u001b[1;31mFileNotFoundError\u001b[0m: [Errno 2] No such file or directory: 'equiposdeprotecion_covid19.csv'"
     ]
    }
   ],
   "source": [
    "base_dir = \"./\"\n",
    "encoded_dir = \"./data_limpia\"\n",
    "filenames = find_csv_filenames(base_dir)\n",
    "for name in filenames:\n",
    "  print (\"Trabajando con archivo:\",name)\n",
    "  change_file_encoding(name,encoded_dir)\n",
    "print(\"Terminado\")"
   ]
  }
 ],
 "metadata": {
  "kernelspec": {
   "display_name": "Python 3",
   "language": "python",
   "name": "python3"
  },
  "language_info": {
   "codemirror_mode": {
    "name": "ipython",
    "version": 3
   },
   "file_extension": ".py",
   "mimetype": "text/x-python",
   "name": "python",
   "nbconvert_exporter": "python",
   "pygments_lexer": "ipython3",
   "version": "3.7.7"
  }
 },
 "nbformat": 4,
 "nbformat_minor": 4
}
